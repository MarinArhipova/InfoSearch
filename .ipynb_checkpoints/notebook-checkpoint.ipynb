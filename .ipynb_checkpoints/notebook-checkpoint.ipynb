{
 "cells": [
  {
   "cell_type": "code",
   "execution_count": 1,
   "metadata": {},
   "outputs": [],
   "source": [
    "import requests\n",
    "# re - модуль для работы с регулярными выражениями\n",
    "import re\n",
    "import time\n",
    "import string\n",
    "import random\n",
    "import math\n",
    "import pandas as pd\n",
    "from urllib.parse import urlparse\n",
    "from collections import Counter\n",
    "from bs4 import BeautifulSoup\n",
    "from pymystem3 import Mystem"
   ]
  },
  {
   "cell_type": "markdown",
   "metadata": {},
   "source": [
    "# Задание №1"
   ]
  },
  {
   "cell_type": "code",
   "execution_count": 2,
   "metadata": {},
   "outputs": [],
   "source": [
    "def crawl(urls):\n",
    "    links_tree = set()\n",
    "    for url in urls:\n",
    "        if len(texts) >= 100:\n",
    "            return\n",
    "    \n",
    "        if url in visited:\n",
    "            continue\n",
    "        visited.add(url)\n",
    "            \n",
    "        try:\n",
    "            html = requests.get(url).content.decode()\n",
    "        except:\n",
    "            time.sleep(1)\n",
    "            continue\n",
    "            \n",
    "        soup = BeautifulSoup(html)\n",
    "        for script in soup([\"script\", \"style\"]):\n",
    "            script.extract()\n",
    "        text = soup.get_text(' ').strip().replace('\\xa0', ' ').replace('\\n', '').replace('\\r', '').replace('\\t', '')\n",
    "        # re.sub() для замены всех ' +' на ' '\n",
    "        text = re.sub(' +', ' ', text)\n",
    "    \n",
    "        if len(text.split(' ')) >= 1000:\n",
    "            texts[url] = text\n",
    "            \n",
    "        parsed = urlparse(url)\n",
    "        base = f\"{parsed.scheme}://{parsed.netloc}\"\n",
    "        # re.findall() - найти все вхождения\n",
    "        links = re.findall('''<a\\s+(?:[^>]*?\\s+)?href=\"([^\"]*)\"''', html) \n",
    "        \n",
    "        for i, link in enumerate(links):    \n",
    "            if not urlparse(link).netloc:    \n",
    "                link_with_base = base + link    \n",
    "                links[i] = link_with_base\n",
    "                \n",
    "        links_tree.update(set(filter(lambda x: 'mailto' not in x, links)))\n",
    "    \n",
    "    crawl(links_tree)"
   ]
  },
  {
   "cell_type": "code",
   "execution_count": 3,
   "metadata": {},
   "outputs": [],
   "source": [
    "texts = {}\n",
    "visited = set()\n",
    "start = 'https://m.habr.com/ru/all/'\n",
    "\n",
    "crawl([start])"
   ]
  },
  {
   "cell_type": "code",
   "execution_count": 4,
   "metadata": {},
   "outputs": [],
   "source": [
    "index = {i:k for i, k in enumerate(texts)}"
   ]
  },
  {
   "cell_type": "code",
   "execution_count": 5,
   "metadata": {},
   "outputs": [],
   "source": [
    "with open('index.txt', 'w') as f:\n",
    "    for i in index:\n",
    "        f.write(f\"{i}: {index[i]}\\n\")"
   ]
  },
  {
   "cell_type": "code",
   "execution_count": 12,
   "metadata": {
    "scrolled": true
   },
   "outputs": [
    {
     "data": {
      "text/plain": [
       "'0: https://m.habr.com/ru/post/543540/comments/\\n1: https://m.habr.com/ru/company/itsoft/blog/543554/comments/\\n2: https://m.habr.com/ru/post/543532/\\n3: https://m.habr.com/ru/post/543550/\\n4: https://m.habr.com/ru/post/543570/\\n5: https://m.habr.com/ru/post/543546/comments/\\n6: https://m.habr.com/ru/post/543534/\\n7: https://m.habr.com/ru/post/543540/\\n8: https://m.habr.com/ru/post/543586/\\n9: https://m.habr.com/ru/post/543536/\\n10: https://account.habr.com/info/confidential/\\n11: https://m.habr.com/ru/company/vasexperts/blog/543300/\\n12: https://m.habr.com/ru/company/itsoft/blog/543554/\\n13: https://m.habr.com/ru/post/543550/comments/\\n14: https://m.habr.com/ru/post/543542/comments/\\n15: https://m.habr.com/ru/post/543552/\\n16: https://m.habr.com/ru/post/543496/\\n17: https://m.habr.com/ru/post/543570/comments/\\n18: https://m.habr.com/ru/post/543580/\\n19: https://account.habr.com/info/agreement\\n20: https://m.habr.com/ru/company/audiomania/blog/541106/\\n21: https://m.habr.com/ru/post/543496/comments/\\n22: https://m.habr.com/ru/post/543544/\\n23: https://m.habr.com/ru/post/543582/\\n24: https://u.habr.com/selectelcombo_top\\n25: https://m.habr.com/ru/post/543536/comments/\\n26: https://m.habr.com/ru/post/543574/\\n27: https://github.com/joshhanley/sprucewire\\n28: https://m.habr.com/ru/post/542182/\\n29: https://m.habr.com/ru/company/itmai/blog/543000/\\n30: http://cowlark.com/2021-02-16-fuzix-pi-pico/\\n31: https://losst.ru/nastrojka-php-fpm\\n32: https://itsfoss.com/youtube-dl-gui-apps/\\n33: https://m.habr.com/ru/company/vasexperts/blog/529198/\\n34: https://u.habr.com/home-admin-header\\n35: https://m.habr.com/ru/company/itsoft/blog/542500/comments/\\n36: https://files.stroyinf.ru/Data1/10/10678/index.htm\\n37: https://u.habr.com/selectel_oblplatf\\n38: https://stackoverflow.com/questions/301134/how-to-import-a-module-given-its-name-as-string\\n39: https://s-fleck.github.io/lgr/index.html\\n40: https://habr.com/ru/megaprojects/\\n41: https://m.habr.com/ru/company/X5RetailGroup/blog/543324/\\n42: https://opensource.com/article/21/2/linux-installation\\n43: https://u.habr.com#comment_22600856\\n44: https://habr.com/ru/post/542698/\\n45: http://www.audiomania.ru\\n46: https://habr.com/ru/article/410401/\\n47: https://m.habr.com/ru/company/htmlacademy/blog/543444/comments/\\n48: https://m.habr.com/ru/post/543426/\\n49: https://account.habr.com/info/agreement/?hl=ru_RU\\n50: https://m.habr.com/ru/article/538258/\\n51: https://zen.yandex.com/about\\n52: https://m.habr.com/ru/article/534572/\\n53: https://m.habr.com/ru/post/538994/comments/\\n54: https://indepth.dev/posts/1425/how-to-refactor-an-angular-codebase\\n55: https://habr.com/ru/post/542616\\n56: https://habr.com/ru/company/vasexperts/blog/537644/\\n57: https://m.habr.com/ru/post/543446/comments/\\n58: https://hugogiraudel.github.io/a11y-dialog/#a11y-dialog\\n59: https://m.habr.com/ru/post/434658/comments/\\n60: https://www.audiomania.ru/content/art-7978.html\\n61: https://account.habr.com/info/confidential_20181225/\\n62: https://m.habr.com/ru/post/543502/\\n63: https://m.habr.com/ru/post/439584/comments/\\n64: https://habr.com/ru/post/542744\\n65: https://www.audiomania.ru/content/art-6661.html\\n66: https://career.habr.com\\n67: https://m.habr.com/ru/company/oleg-bunin/blog/537186/\\n68: https://m.habr.com/ru/post/543422/comments/\\n69: http://ruvds.com/ru-rub?utm_source=habr&amp;utm_medium=article&amp;utm_campaign=galimova_ruvds&amp;utm_content=ekonomisty#order\\n70: https://mangools.com/blog/learn-seo/\\n71: https://en.wikipedia.org/wiki/Assembly_language#Assembler\\n72: https://m.habr.com/ru/company/selectel/blog/541284/\\n73: https://m.habr.com/ru/company/veeam/blog/540332/\\n74: https://vasexperts.ru/blog/sorm/sorm-za-rubezhom-i-v-rossii/\\n75: https://policies.google.com/privacy\\n76: https://files.stroyinf.ru/Data1/41/41420/index.htm\\n77: https://m.habr.com/ru/company/tensor/blog/540572/\\n78: https://habr.com/ru/post/543024\\n79: https://m.habr.com/ru/company/alconost/blog/542848/\\n80: https://habr.com/ru/search/?q=%5BIaaS%5D&target_type=posts\\n81: https://habr.com/ru/company/skyeng/blog/543024/\\n82: https://m.habr.com/ru/company/audiomania/blog/410377/\\n83: https://habr.com\\n84: https://m.habr.com/ru/post/543424/\\n85: https://m.habr.com/ru/post/543420/\\n86: https://m.habr.com/ru/company/skillfactory/blog/542860/\\n87: https://hsbi.hse.ru/programs/vocational_retraining/menedzhment-igrovykh-internet-proektov/\\n88: https://www.danielwerner.dev/under-the-hood-how-database-transactions-work-in-laravel/\\n89: https://www.telerik.com/blogs/what-you-need-to-know-css-in-js-2021\\n90: https://m.habr.com/ru/company/southbridge/blog/543254/\\n91: https://dev.to/rickavmaniac/my-beloved-laravel-cheat-sheet-3l73\\n92: https://opensource.com/article/21/2/try-linux\\n93: https://medium.com/scrum-and-coke/angular-11-pagination-of-zillion-rows-45d8533538c0\\n94: https://m.habr.com/ru/post/542316/comments/\\n95: https://habr.com/ru/company/quarkly/blog/543096/\\n96: https://johnbraun.blog/posts/mutation-testing\\n97: https://habr.com/ru/flows/management/\\n98: https://m.habr.com/ru/article/539502/\\n99: https://habr.com/ru/users/\\n'"
      ]
     },
     "execution_count": 12,
     "metadata": {},
     "output_type": "execute_result"
    }
   ],
   "source": [
    "path = 'C:\\\\Users\\\\User\\\\Downloads\\\\InfoSearch\\\\InfoSearch_1\\\\index.txt'  # путь указывается индивидуально\n",
    "open(path).read()"
   ]
  }
 ],
 "metadata": {
  "kernelspec": {
   "display_name": "Python 3",
   "language": "python",
   "name": "python3"
  },
  "language_info": {
   "codemirror_mode": {
    "name": "ipython",
    "version": 3
   },
   "file_extension": ".py",
   "mimetype": "text/x-python",
   "name": "python",
   "nbconvert_exporter": "python",
   "pygments_lexer": "ipython3",
   "version": "3.8.3"
  }
 },
 "nbformat": 4,
 "nbformat_minor": 4
}
